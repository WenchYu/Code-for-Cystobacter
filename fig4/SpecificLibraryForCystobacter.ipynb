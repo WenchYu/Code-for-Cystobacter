{
 "cells": [
  {
   "cell_type": "markdown",
   "id": "1afed095-8096-4d31-a3bc-07db494595b4",
   "metadata": {},
   "source": [
    "# Build spectral library for identified structures isolated from cystobacter"
   ]
  },
  {
   "cell_type": "markdown",
   "id": "7bb7aef5-eecb-4d19-a6c4-0397809b2931",
   "metadata": {},
   "source": [
    "## Import library"
   ]
  },
  {
   "cell_type": "code",
   "execution_count": null,
   "outputs": [],
   "source": [
    "# Install dependency\n",
    "```bash\n",
    "pip install ms_entropy,matchms,SpectalEntropy,spectrum-utils,FPSim2\n",
    "```"
   ],
   "metadata": {
    "collapsed": false,
    "pycharm": {
     "name": "#%%\n"
    }
   }
  },
  {
   "cell_type": "code",
   "execution_count": 273,
   "id": "db3bacac-287d-49dc-bfb9-0c25df3edb71",
   "metadata": {},
   "outputs": [],
   "source": [
    "import os,json,ujson,ms_entropy,matchms,json,spectral_entropy,sys,time\n",
    "sys.path.append('../')\n",
    "import pandas as pd\n",
    "import numpy as np\n",
    "from matchms.importing import load_from_mgf\n",
    "from matchms.exporting import save_as_mgf\n",
    "from tqdm import tqdm, trange\n",
    "from ms_entropy import FlashEntropySearch\n",
    "from my_packages import cheminfo_tools\n",
    "import spectrum_utils.spectrum as sus\n",
    "from my_packages.peaktools import cosine\n",
    "from FPSim2.io import create_db_file\n",
    "from FPSim2 import FPSim2Engine"
   ]
  },
  {
   "cell_type": "markdown",
   "id": "068f745b-1630-44de-bd25-4a54201a4210",
   "metadata": {},
   "source": [
    "## Load GNPS spectral library\n"
   ]
  },
  {
   "cell_type": "code",
   "execution_count": 1,
   "id": "ce4bafa4-249a-4ad5-8ae9-fb3719676ad0",
   "metadata": {},
   "outputs": [],
   "source": [
    "GNPS_CLEAN_FILE = './cystoscape/ALL_GNPS_cleaned.mgf'\n",
    "# This file is about 2 GB and should be downloaded at https://external.gnps2.org/gnpslibrary"
   ]
  },
  {
   "cell_type": "code",
   "execution_count": 4,
   "id": "bb7d3351-9cd3-4ed9-8a2b-c6520eaf889e",
   "metadata": {},
   "outputs": [
    {
     "name": "stdout",
     "output_type": "stream",
     "text": [
      "Finished in 9.39 min\n"
     ]
    }
   ],
   "source": [
    "t = time.time() \n",
    "GNPS_CLAEN_INFO = list(load_from_mgf(GNPS_CLEAN_FILE))\n",
    "print(f'Finished in {(time.time() - t) / 60:.2f} min')"
   ]
  },
  {
   "cell_type": "code",
   "execution_count": 43,
   "id": "5fe579b4-2aff-431f-a54b-9dade4a9d151",
   "metadata": {},
   "outputs": [
    {
     "name": "stderr",
     "output_type": "stream",
     "text": [
      "100%|████████████████████████████████| 913576/913576 [00:11<00:00, 79115.92it/s]\n"
     ]
    }
   ],
   "source": [
    "IDX2SMILE = []\n",
    "for idx, SPECTRUM in tqdm(enumerate(GNPS_CLAEN_INFO),total = len(GNPS_CLAEN_INFO)):\n",
    "    IONMODE = SPECTRUM.metadata['ionmode']\n",
    "    if IONMODE == 'positive':\n",
    "        try:\n",
    "            SMILE = SPECTRUM.metadata['smiles']\n",
    "            IDX2SMILE.append([SMILE,idx]) \n",
    "        except:pass"
   ]
  },
  {
   "cell_type": "code",
   "execution_count": 344,
   "id": "4b0d262e-43f1-47f0-9939-6e4fe5d67ee2",
   "metadata": {},
   "outputs": [
    {
     "name": "stdout",
     "output_type": "stream",
     "text": [
      "Finished in 3.21 min\n"
     ]
    }
   ],
   "source": [
    "# Generate chemical chemical fingerprint database\n",
    "t = time.time()\n",
    "create_db_file(\n",
    "    mols_source=IDX2SMILE, \n",
    "    filename='./cystobacter/fp_db.h5',  # output\n",
    "    mol_format='smiles', # required\n",
    "    fp_type='Morgan',\n",
    "    fp_params={'radius': 2, 'fpSize': 1024}\n",
    ")\n",
    "print(f'Finished in {(time.time() - t) / 60:.2f} min')"
   ]
  },
  {
   "cell_type": "markdown",
   "id": "5d506aaa-d720-4e10-8bd4-edfd4aa46fbe",
   "metadata": {},
   "source": [
    "## Build library for *Cystobacter*\n"
   ]
  },
  {
   "cell_type": "code",
   "execution_count": 25,
   "id": "b3007fb2-5310-4608-984d-bb054969c542",
   "metadata": {},
   "outputs": [],
   "source": [
    "# Load list of collected metabolites from Cystobacter\n",
    "XLSX_FILE = './cystobacter/CysCompounds.xlsx'\n",
    "CYS_DF = pd.read_excel(XLSX_FILE,index_col = None) # npaid,compound_smiles"
   ]
  },
  {
   "cell_type": "code",
   "execution_count": 359,
   "id": "aab59a0c-62ca-4a44-985a-9b24f9c6cc63",
   "metadata": {},
   "outputs": [],
   "source": [
    "# Example\n",
    "fp_filename = './cystobacter/fp_db.h5'\n",
    "fpe = FPSim2Engine(fp_filename)\n",
    "\n",
    "query = 'CC(=O)Oc1ccccc1C(=O)O'\n",
    "# results = fpe.top_k(query, k=10, threshold=0.7, metric='tanimoto', n_workers=1)\n",
    "results = fpe.similarity(query, threshold=0.8, metric='tanimoto', n_workers=1)\n",
    "fpidx_list = [x[0] for x in results]\n",
    "fpsim_list = [x[1] for x in results]"
   ]
  },
  {
   "cell_type": "code",
   "execution_count": 383,
   "id": "a604ce0e-0bc1-484b-aaae-e0f6a02f623d",
   "metadata": {},
   "outputs": [
    {
     "name": "stderr",
     "output_type": "stream",
     "text": [
      "100%|███████████████████████████████████████████| 58/58 [00:01<00:00, 34.44it/s]\n"
     ]
    }
   ],
   "source": [
    "# Retrieve CCMSLIB_ID of similar structures with Cystobacter's metabolites\n",
    "hit_dict = {}\n",
    "for idx in trange(len(CYS_DF)):\n",
    "    NPAID = CYS_DF.loc[idx,'npaid']\n",
    "    CYSSMILE = CYS_DF.loc[idx,'compound_smiles']\n",
    "    results = fpe.top_k(CYSSMILE, k=5,threshold=0.5, metric='tanimoto', n_workers=1) # [(CCMSLIBidx,similarity1),(),...]\n",
    "    fpidx_list = [x[0] for x in results]\n",
    "    fpsim_list = [x[1] for x in results]\n",
    "    if fpidx_list:\n",
    "        hit_dict[idx] = {'npaid':NPAID,'np_smile':CYSSMILE,'CCMSLIB_idx':fpidx_list,'sim_list':fpsim_list}"
   ]
  },
  {
   "cell_type": "code",
   "execution_count": 385,
   "id": "38c6befb-2ec0-4c81-8721-b42314cfa10b",
   "metadata": {},
   "outputs": [],
   "source": [
    "# Dereplication and save non-redundant LIBIDXs\n",
    "NR_LIBIDX =[]\n",
    "for key, value in hit_dict.items():\n",
    "    ids = value['CCMSLIB_idx']\n",
    "    NR_LIBIDX.extend(ids)\n",
    "NR_LIBIDX = list(set(NR_LIBIDX))\n",
    "for libidx in NR_LIBIDX:\n",
    "    save_as_mgf(GNPS_CLAEN_INFO[libidx], \"./cystobacter/Lib4Cys.mgf\")\n",
    "    "
   ]
  },
  {
   "cell_type": "markdown",
   "id": "1fc45856-6413-459a-9768-6f8513caa867",
   "metadata": {},
   "source": [
    "## Load cbfe23 mgf"
   ]
  },
  {
   "cell_type": "code",
   "execution_count": 105,
   "id": "9499a146-32e0-4274-9cfd-63373979b1a8",
   "metadata": {},
   "outputs": [],
   "source": [
    "# Query FS formatting\n",
    "CF_MGF = \"./cystobacter/cbfe23.mgf\" # the same mgf file depict figure 4A\n",
    "SPECTRA = load_from_mgf(CF_MGF)\n",
    "FS_SPECTRA = []\n",
    "for SPECTRUM in SPECTRA:\n",
    "    FID = SPECTRUM.metadata['feature_id']\n",
    "    PM = SPECTRUM.metadata['precursor_mz']\n",
    "    peaks = np.column_stack((SPECTRUM.mz,SPECTRUM.intensities))\n",
    "    FS_SPECTRA.append(\n",
    "        {\n",
    "            \"id\": FID,\n",
    "            \"precursor_mz\": PM,\n",
    "            \"peaks\": peaks\n",
    "        }\n",
    "    )\n",
    "\n",
    "sort = FlashEntropySearch()\n",
    "FS_SPECTRA = sort.build_index(FS_SPECTRA) # Pre-clean and sorted flash spectra"
   ]
  },
  {
   "cell_type": "code",
   "execution_count": null,
   "id": "24d699b2-7812-42bf-8e80-fccab53726de",
   "metadata": {},
   "outputs": [],
   "source": [
    "# Flash formatting reference library\n",
    "LIB_MGF = \"./cystobacter/Lib4Cys.mgf\"\n",
    "LIB_SPECTRA = load_from_mgf(LIB_MGF)\n",
    "\n",
    "\n",
    "FS_LIB_SPECTRA = []\n",
    "for SPECTRUM in LIB_SPECTRA:\n",
    "    FID = SPECTRUM.metadata['spectrum_id']\n",
    "    PM = SPECTRUM.metadata['precursor_mz']\n",
    "    SMILES = SPECTRUM.metadata['smiles']\n",
    "    peaks = np.column_stack((SPECTRUM.mz,SPECTRUM.intensities))\n",
    "    FS_LIB_SPECTRA.append(\n",
    "        {\n",
    "            \"id\": FID,\n",
    "            \"precursor_mz\": PM,\n",
    "            \"peaks\": peaks,\n",
    "            \"SMILES\": SMILES\n",
    "        }\n",
    "    )\n",
    "\n",
    "lib_search1 = FlashEntropySearch()\n",
    "FS_LIB_SPECTRA = lib_search1.build_index(FS_LIB_SPECTRA) # Pre-clean and sorted flash spectra"
   ]
  },
  {
   "cell_type": "code",
   "execution_count": 397,
   "id": "4ad89022-2258-4efb-9ec8-0aafb5e1b1e5",
   "metadata": {},
   "outputs": [
    {
     "name": "stdout",
     "output_type": "stream",
     "text": [
      "CC(C)CC(=O)NCC(=O)O\n",
      "CC(C)CC(=O)NCC(=O)O\n",
      "CC(C)CC(=O)NCC(=O)O\n",
      "CC(C)CC(=O)NCC(=O)O\n",
      "CC(C)CC(=O)NCC(=O)O\n",
      "CCCCCC(=O)NCC(=O)O\n",
      "CCCCCC(=O)NCC(=O)O\n",
      "CCCCCC(=O)NCC(=O)O\n",
      "CCCCCC(=O)NCC(=O)O\n",
      "CCCCCC(=O)NCC(=O)O\n",
      "CC(=O)NCCc1ccc(O)cc1\n",
      "CC(=O)NCCc1ccc(O)cc1\n",
      "CC(=O)NCCc1ccc(O)cc1\n",
      "CC(=O)NCCc1ccc(O)cc1\n",
      "CC(=O)NCCc1ccc(O)cc1\n",
      "CC(C)CC(N)C(=O)NC(Cc1ccccc1)C(=O)O\n",
      "CC(C)CC(N)C(=O)NC(Cc1ccccc1)C(=O)O\n",
      "CC(C)CC(N)C(=O)NC(Cc1ccccc1)C(=O)O\n",
      "CC(C)CC(N)C(=O)NC(Cc1ccccc1)C(=O)O\n",
      "CC(C)CC(N)C(=O)NC(Cc1ccccc1)C(=O)O\n",
      "NC(Cc1c[nH]c2ccccc12)C(=O)NC(Cc1ccccc1)C(=O)O\n",
      "NC(Cc1c[nH]c2ccccc12)C(=O)NC(Cc1ccccc1)C(=O)O\n",
      "NC(Cc1ccccc1)C(=O)NC(Cc1c[nH]c2ccccc12)C(=O)O\n",
      "NC(Cc1c[nH]c2ccccc12)C(=O)NC(Cc1ccccc1)C(=O)O\n",
      "NC(Cc1c[nH]c2ccccc12)C(=O)NC(Cc1ccccc1)C(=O)O\n",
      "CC(C=CC=CC=CC=C(C)C(=O)NC(C)CO)=CC(C)C(O)C(C)=CC(C)C\n",
      "CC(C=CC=CC=CC=C(C)C(=O)NC(C)CO)=CC(C)C(O)C(C)=CC(C)C\n",
      "O=C(O)CCC(NCC1(O)OCC(O)C(O)C1O)C(=O)NC(Cc1ccccc1)C(=O)O\n",
      "CCC(C)C(NC(=O)C1CCCCN1C)C(=O)N(COC(=O)CC(C)C)C(CC(OC(C)=O)c1nc(C(=O)NC(Cc2ccc(O)cc2)CC(C)C(=O)O)cs1)C(C)C\n",
      "COc1c(NC(=O)c2ccc(NC(=O)c3ccc(NC(=O)C(NC(=O)c4ccc(NC(=O)C(C)=Cc5ccc(O)cc5)cc4)C(OC)C(N)=O)cc3)c(OC)c2O)ccc(C(=O)O)c1O\n",
      "COc1c(NC(=O)c2ccc(NC(=O)c3ccc(NC(=O)C(NC(=O)c4ccc(NC(=O)C(C)=Cc5ccc(OC(N)=O)cc5)cc4)C(OC)C(N)=O)cc3)c(OC)c2O)ccc(C(=O)O)c1O\n"
     ]
    }
   ],
   "source": [
    "for s in FS_LIB_SPECTRA:\n",
    "    print(s['SMILES'])"
   ]
  },
  {
   "cell_type": "code",
   "execution_count": 388,
   "id": "3165f389-84ee-420c-83d7-0c2de165d67e",
   "metadata": {},
   "outputs": [],
   "source": [
    "# Search\n",
    "SEARCH_MATRIX = {} # {FID:{search_matrix}}\n",
    "for FIDX, SPECTRUM in enumerate(FS_SPECTRA):\n",
    "    FID = SPECTRUM['id']\n",
    "    PM = SPECTRUM['precursor_mz']\n",
    "    PEAKs = SPECTRUM['peaks']\n",
    "    SIM_MATRIX = lib_search1.search(precursor_mz = PM, peaks = PEAKs)\n",
    "\n",
    "    SEARCH_MATRIX[FIDX] = SIM_MATRIX"
   ]
  },
  {
   "cell_type": "code",
   "execution_count": 398,
   "id": "b51dd531-6b73-4352-860e-8dcb19234363",
   "metadata": {},
   "outputs": [],
   "source": [
    "# Filter results\n",
    "Search_res = {}\n",
    "for FIDX, SIM_MATRIX in SEARCH_MATRIX.items():\n",
    "    NR_HITS_LIST = []\n",
    "    for search_mode, sim_arry in SIM_MATRIX.items():\n",
    "        hits = np.where(sim_arry >= 0.5)\n",
    "        NR_HITS_LIST.extend(hits)\n",
    "    NR_HITS_LIST = np.unique(np.concatenate(NR_HITS_LIST))[:5] # dereplicating and keep top 5 matches\n",
    "    Search_res[FIDX] = NR_HITS_LIST"
   ]
  },
  {
   "cell_type": "code",
   "execution_count": 399,
   "id": "452606f0-c739-42ff-b7f2-e5e197f445cd",
   "metadata": {},
   "outputs": [
    {
     "name": "stdout",
     "output_type": "stream",
     "text": [
      "171 175 [28]\n",
      "172 287 [28]\n",
      "173 68 [28]\n",
      "177 177 [28]\n",
      "178 291 [28]\n",
      "179 70 [28]\n",
      "180 179 [28]\n",
      "181 293 [28]\n",
      "182 294 [28]\n",
      "183 72 [28]\n"
     ]
    }
   ],
   "source": [
    "# View matched pairs\n",
    "for key, value in Search_res.items():\n",
    "    if value.any():\n",
    "        FID = FS_SPECTRA[key]['id']\n",
    "        print(key,FID,Search_res[key])\n",
    "        "
   ]
  },
  {
   "cell_type": "code",
   "execution_count": 289,
   "id": "7f594b98-3ce3-4903-9fc6-897a13dfb9a5",
   "metadata": {},
   "outputs": [
    {
     "data": {
      "text/plain": [
       "{'id': '5',\n",
       " 'precursor_mz': 211.094,\n",
       " 'peaks': array([[1.6307291e+02, 8.8571429e-01],\n",
       "        [1.6407471e+02, 8.2095236e-02],\n",
       "        [1.8108340e+02, 1.7142856e-02],\n",
       "        [1.9406174e+02, 1.5047619e-02]], dtype=float32)}"
      ]
     },
     "execution_count": 289,
     "metadata": {},
     "output_type": "execute_result"
    }
   ],
   "source": [
    "# View specific query spectra\n",
    "FS_SPECTRA[12]"
   ]
  },
  {
   "cell_type": "code",
   "execution_count": 391,
   "id": "2c49b2a9-6642-4c70-b04a-45386a1bd8a4",
   "metadata": {
    "pycharm": {
     "name": "#%%\n"
    }
   },
   "outputs": [
    {
     "data": {
      "text/plain": [
       "{'id': 'CCMSLIB00000478582',\n",
       " 'precursor_mz': 844.453,\n",
       " 'peaks': array([[2.11180740e+02, 1.13930985e-01],\n",
       "        [2.12183899e+02, 1.59014687e-02],\n",
       "        [2.21074326e+02, 6.24685781e-03],\n",
       "        [2.38100998e+02, 4.11649793e-03],\n",
       "        [2.39087738e+02, 2.76081450e-03],\n",
       "        [2.39175980e+02, 2.37895682e-01],\n",
       "        [2.40178696e+02, 4.39628810e-02],\n",
       "        [2.41181366e+02, 4.37197648e-03],\n",
       "        [3.17095306e+02, 5.03539620e-03],\n",
       "        [3.43111481e+02, 2.76905578e-03],\n",
       "        [3.61121582e+02, 5.31147746e-03],\n",
       "        [3.97157837e+02, 3.96815594e-03],\n",
       "        [3.99173523e+02, 5.05599938e-03],\n",
       "        [4.15168518e+02, 3.79508990e-03],\n",
       "        [4.17183899e+02, 3.17287655e-03],\n",
       "        [4.26184662e+02, 6.62842765e-02],\n",
       "        [4.27187439e+02, 1.84397697e-02],\n",
       "        [4.28184784e+02, 4.29780548e-03],\n",
       "        [4.44195282e+02, 8.35785121e-02],\n",
       "        [4.45198151e+02, 2.39655189e-02],\n",
       "        [4.46195770e+02, 5.72765991e-03],\n",
       "        [4.62205658e+02, 7.43359607e-03],\n",
       "        [4.75189575e+02, 3.05337855e-03],\n",
       "        [4.86205688e+02, 5.95017336e-03],\n",
       "        [5.04217224e+02, 2.25076437e-01],\n",
       "        [5.05219971e+02, 6.57609552e-02],\n",
       "        [5.06218109e+02, 1.76032837e-02],\n",
       "        [5.07218475e+02, 3.84041667e-03],\n",
       "        [5.18232483e+02, 3.20996204e-03],\n",
       "        [7.42382080e+02, 5.06424066e-03],\n",
       "        [7.43385315e+02, 2.41880328e-03]], dtype=float32),\n",
       " 'SMILES': 'CCC(C)C(NC(=O)C1CCCCN1C)C(=O)N(COC(=O)CC(C)C)C(CC(OC(C)=O)c1nc(C(=O)NC(Cc2ccc(O)cc2)CC(C)C(=O)O)cs1)C(C)C'}"
      ]
     },
     "execution_count": 391,
     "metadata": {},
     "output_type": "execute_result"
    }
   ],
   "source": [
    "# View specific library spectra\n",
    "FS_LIB_SPECTRA[28]"
   ]
  }
 ],
 "metadata": {
  "kernelspec": {
   "display_name": "Python 3 (ipykernel)",
   "language": "python",
   "name": "python3"
  },
  "language_info": {
   "codemirror_mode": {
    "name": "ipython",
    "version": 3
   },
   "file_extension": ".py",
   "mimetype": "text/x-python",
   "name": "python",
   "nbconvert_exporter": "python",
   "pygments_lexer": "ipython3",
   "version": "3.10.16"
  }
 },
 "nbformat": 4,
 "nbformat_minor": 5
}