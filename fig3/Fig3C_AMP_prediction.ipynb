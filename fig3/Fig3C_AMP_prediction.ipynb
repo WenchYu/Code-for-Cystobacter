{
 "cells": [
  {
   "cell_type": "markdown",
   "id": "83cce1b8-39cc-4d65-b263-f343dd53a343",
   "metadata": {},
   "source": [
    "# BERT, ATTENTION and LSTM\n",
    "* The original tutorial can be accessed at this [git repository](https://github.com/BioGavin/c_AMPs-prediction)\n",
    "* [Reference](https://www.nature.com/articles/s41587-022-01226-0)"
   ]
  },
  {
   "cell_type": "markdown",
   "id": "030a38b7-f73b-424e-9cf2-f4b5b888b04f",
   "metadata": {},
   "source": [
    "## Model preparation "
   ]
  },
  {
   "cell_type": "markdown",
   "id": "fb6eff68-cb7e-4fc8-abc8-86e23d1393bb",
   "metadata": {},
   "source": [
    "* Clone the git repository to the local directory \n",
    "```bash\n",
    "git clone https://github.com/BioGavin/c_AMPs-prediction.git \n",
    "cd c_AMPs-prediction/\n",
    "```\n",
    "\n",
    "* Download BERT model and move to the \"Models/\" folder\n",
    "Access \"bert.bin\" from the [link](https://www.dropbox.com/sh/o58xdznyi6ulyc6/AABLckEnxP54j2X7BrGybhyea?dl=0)\n",
    "```bash\n",
    "mv bert.bin Models/ \n",
    "```\n",
    "\n",
    "* Validate the model\n",
    "```bash\n",
    "cd Models\n",
    "md5sum -c md5.txt\n",
    "```\n",
    "The following output indicates that the verification is successful; otherwise the model file was not downloaded completely.\n",
    "```\n",
    "lstm.h5: OK\n",
    "att.h5: OK\n",
    "bert.bin: OK\n",
    "```\n",
    "\n",
    "* Return to the root directory\n",
    "```bash\n",
    "cd ..\n",
    "```\n",
    "\n",
    "* Create the environment\n",
    "```bash\n",
    "conda create -y -n amp_prediction python=3.7 certifi=2022.12.7\n",
    "conda activate amp_prediction\n",
    "\n",
    "pip install -r requirement.txt\n",
    "\n",
    "cd bert_sklearn\n",
    "pip install .\n",
    "\n",
    "cd .. && cp -r bert_sklearn/ ~/miniconda3/envs/amp_prediction/lib/python3.7/site-packages/ \n",
    "# Please replace the destination with the directory of your conda environment\n",
    "\n",
    "```\n"
   ]
  },
  {
   "cell_type": "markdown",
   "id": "171d810c-f848-415a-a4bc-f4b762c0cbe9",
   "metadata": {},
   "source": [
    "## Input preparation"
   ]
  },
  {
   "cell_type": "markdown",
   "id": "7de28823-759f-41d3-b7a5-e6eae6ad7932",
   "metadata": {},
   "source": [
    "* Format sequence\n",
    "```bash\n",
    "mv ripps_cystobacter.fasta Data/\n",
    "\n",
    "# optional procedures if needed\n",
    "\n",
    "# seqkit seq -M 300 -g input.faa -o output.faa # Delete sequence longer than 300 bp\n",
    "# seqkit seq -w 0 input.faa -o output.faa # Convert the sequence into one line\n",
    "# seqkit grep -s -p \"X\" -v input.faa -o output.faa # Remove unknown amino acid \"X\" in the sequence\n",
    "```\n",
    "\n",
    "* Formatting\n",
    "```\n",
    "cd Data\n",
    "perl ../script/format.pl ripps_cystobacter.fasta none > ripps_cystobacter.txt\n",
    "```"
   ]
  },
  {
   "cell_type": "markdown",
   "id": "6361ed20-70bf-454a-833b-7f411e66306a",
   "metadata": {},
   "source": [
    "## Prediction"
   ]
  },
  {
   "cell_type": "markdown",
   "id": "314ad3df-5a91-413b-97a2-9b4ea226d996",
   "metadata": {},
   "source": [
    "* Predict by three models\n",
    "```\n",
    "python3 ../script/prediction_attention.py ripps_cystobacter.txt ripps_cystobacter.att.txt # Attention\n",
    "python3 ../script/prediction_lstm.py ripps_cystobacter.txt ripps_cystobacter.lstm.txt # LSTM\n",
    "python3 ../script/prediction_bert.py ripps_cystobacter.txt ripps_cystobacter.bert.txt # BERT\n",
    "```\n",
    "\n",
    "* Summary\n",
    "```\n",
    "python3 ../script/result.py ripps_cystobacter.att.txt ripps_cystobacter.lstm.txt ripps_cystobacter.bert.txt ripps_cystobacter.fasta ripps_cystobacter.result.tsv\n",
    "```"
   ]
  },
  {
   "cell_type": "markdown",
   "id": "cd368b4e-6c10-4a47-9fe4-8048200b537f",
   "metadata": {},
   "source": [
    "# Sequential Model Ensemble Pipeline (SMEP)\n",
    "* [Reference](https://www.nature.com/articles/s41551-022-00991-2)"
   ]
  }
 ],
 "metadata": {
  "kernelspec": {
   "display_name": "Python 3 (ipykernel)",
   "language": "python",
   "name": "python3"
  },
  "language_info": {
   "codemirror_mode": {
    "name": "ipython",
    "version": 3
   },
   "file_extension": ".py",
   "mimetype": "text/x-python",
   "name": "python",
   "nbconvert_exporter": "python",
   "pygments_lexer": "ipython3",
   "version": "3.10.16"
  }
 },
 "nbformat": 4,
 "nbformat_minor": 5
}
